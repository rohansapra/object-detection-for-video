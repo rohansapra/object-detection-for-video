{
 "cells": [
  {
   "cell_type": "code",
   "execution_count": 20,
   "metadata": {},
   "outputs": [],
   "source": [
    "import matplotlib. pyplot as plt\n",
    "import keras\n",
    "import pandas as pd\n",
    "import numpy as np\n",
    "import os\n",
    "\n",
    "from sklearn.model_selection import train_test_split\n",
    "from sklearn.preprocessing import LabelEncoder\n",
    "from sklearn.metrics import confusion_matrix, classification_report, accuracy_score\n",
    "\n",
    "# Keras\n",
    "from keras.preprocessing.image import ImageDataGenerator\n",
    "#from keras.preprocessing.sequence import pad_sequences\n",
    "from keras.models import Sequential\n",
    "from keras.layers import Activation, Dense, Dropout, Flatten, Conv2D, MaxPooling2D, LSTM\n",
    "from keras import utils\n",
    "from keras.callbacks import ReduceLROnPlateau, EarlyStopping\n",
    "\n",
    "#preprocessing required\n",
    "from urllib import request"
   ]
  },
  {
   "cell_type": "markdown",
   "metadata": {},
   "source": [
    "## Preprocessing of images"
   ]
  },
  {
   "cell_type": "code",
   "execution_count": 81,
   "metadata": {},
   "outputs": [
    {
     "name": "stdout",
     "output_type": "stream",
     "text": [
      "Found 750 images belonging to 2 classes.\n",
      "Found 350 images belonging to 2 classes.\n"
     ]
    }
   ],
   "source": [
    "train_path='Mask_Datasets\\Train'\n",
    "test_path='Mask_Datasets\\Validation'\n",
    "\n",
    "\n",
    "train_batches=ImageDataGenerator(rescale=1./255).flow_from_directory(\n",
    "        train_path,\n",
    "        color_mode='grayscale',\n",
    "        target_size=(150, 150),\n",
    "        shuffle=True,\n",
    "        classes=['Mask','No_mask'])\n",
    "            \n",
    "test_batches=ImageDataGenerator(rescale=1./255).flow_from_directory(\n",
    "        test_path,\n",
    "        target_size=(150, 150),\n",
    "        shuffle=True,\n",
    "        color_mode='grayscale',\n",
    "        classes=['Mask','No_mask'])            \n",
    "            "
   ]
  },
  {
   "cell_type": "markdown",
   "metadata": {},
   "source": [
    "# Keras Model"
   ]
  },
  {
   "cell_type": "code",
   "execution_count": 82,
   "metadata": {},
   "outputs": [
    {
     "name": "stdout",
     "output_type": "stream",
     "text": [
      "Model: \"sequential_9\"\n",
      "_________________________________________________________________\n",
      "Layer (type)                 Output Shape              Param #   \n",
      "=================================================================\n",
      "conv2d_33 (Conv2D)           (None, 148, 148, 64)      640       \n",
      "_________________________________________________________________\n",
      "max_pooling2d_33 (MaxPooling (None, 74, 74, 64)        0         \n",
      "_________________________________________________________________\n",
      "conv2d_34 (Conv2D)           (None, 72, 72, 64)        36928     \n",
      "_________________________________________________________________\n",
      "max_pooling2d_34 (MaxPooling (None, 36, 36, 64)        0         \n",
      "_________________________________________________________________\n",
      "conv2d_35 (Conv2D)           (None, 34, 34, 128)       73856     \n",
      "_________________________________________________________________\n",
      "max_pooling2d_35 (MaxPooling (None, 17, 17, 128)       0         \n",
      "_________________________________________________________________\n",
      "conv2d_36 (Conv2D)           (None, 15, 15, 128)       147584    \n",
      "_________________________________________________________________\n",
      "max_pooling2d_36 (MaxPooling (None, 7, 7, 128)         0         \n",
      "_________________________________________________________________\n",
      "flatten_8 (Flatten)          (None, 6272)              0         \n",
      "_________________________________________________________________\n",
      "dropout_8 (Dropout)          (None, 6272)              0         \n",
      "_________________________________________________________________\n",
      "dense_15 (Dense)             (None, 120)               752760    \n",
      "_________________________________________________________________\n",
      "dense_16 (Dense)             (None, 2)                 242       \n",
      "=================================================================\n",
      "Total params: 1,012,010\n",
      "Trainable params: 1,012,010\n",
      "Non-trainable params: 0\n",
      "_________________________________________________________________\n"
     ]
    }
   ],
   "source": [
    "epochs=30\n",
    "width,height=150,150\n",
    "num_features=64\n",
    "\n",
    "\n",
    "model=Sequential()\n",
    "\n",
    "model.add(Conv2D(num_features,(3,3),activation='relu',input_shape=(width,height,1)))\n",
    "model.add(MaxPooling2D(2,2))\n",
    "model.add(Conv2D(num_features,(3,3),activation='relu'))\n",
    "model.add(MaxPooling2D(2,2))\n",
    "model.add(Conv2D(2*num_features,(3,3),activation='relu'))\n",
    "model.add(MaxPooling2D(2,2))\n",
    "model.add(Conv2D(2*num_features,(3,3),activation='relu'))\n",
    "model.add(MaxPooling2D(2,2))\n",
    "model.add(Flatten())\n",
    "model.add(Dropout(0.5))\n",
    "model.add(Dense(120,activation='relu'))\n",
    "model.add(Dense(2,activation='softmax'))\n",
    "\n",
    "\n",
    "model.summary()"
   ]
  },
  {
   "cell_type": "code",
   "execution_count": 83,
   "metadata": {},
   "outputs": [],
   "source": [
    "model.compile(loss='categorical_crossentropy',\n",
    "              optimizer='adam',\n",
    "              metrics=['accuracy']\n",
    "             )"
   ]
  },
  {
   "cell_type": "code",
   "execution_count": 84,
   "metadata": {},
   "outputs": [
    {
     "name": "stdout",
     "output_type": "stream",
     "text": [
      "Epoch 1/25\n",
      "24/24 [==============================] - 27s 1s/step - loss: 0.6940 - accuracy: 0.5467 - val_loss: 0.6379 - val_accuracy: 0.6029\n",
      "Epoch 2/25\n",
      "24/24 [==============================] - 24s 981ms/step - loss: 0.5994 - accuracy: 0.6800 - val_loss: 0.3848 - val_accuracy: 0.8343\n",
      "Epoch 3/25\n",
      "24/24 [==============================] - 24s 1s/step - loss: 0.4318 - accuracy: 0.8120 - val_loss: 0.2011 - val_accuracy: 0.8857\n",
      "Epoch 4/25\n",
      "24/24 [==============================] - 32s 1s/step - loss: 0.4250 - accuracy: 0.8147 - val_loss: 0.2159 - val_accuracy: 0.9057\n",
      "Epoch 5/25\n",
      "24/24 [==============================] - 26s 1s/step - loss: 0.3256 - accuracy: 0.8667 - val_loss: 0.1857 - val_accuracy: 0.9429\n",
      "Epoch 6/25\n",
      "24/24 [==============================] - 30s 1s/step - loss: 0.2418 - accuracy: 0.9147 - val_loss: 0.1172 - val_accuracy: 0.9400\n",
      "Epoch 7/25\n",
      "24/24 [==============================] - 29s 1s/step - loss: 0.2086 - accuracy: 0.9227 - val_loss: 0.1514 - val_accuracy: 0.9600\n",
      "Epoch 8/25\n",
      "24/24 [==============================] - 25s 1s/step - loss: 0.1207 - accuracy: 0.9507 - val_loss: 0.0623 - val_accuracy: 0.9714\n",
      "Epoch 9/25\n",
      "24/24 [==============================] - 24s 998ms/step - loss: 0.1173 - accuracy: 0.9587 - val_loss: 0.0764 - val_accuracy: 0.9771\n",
      "Epoch 10/25\n",
      "24/24 [==============================] - 23s 979ms/step - loss: 0.1003 - accuracy: 0.9627 - val_loss: 0.2066 - val_accuracy: 0.9571\n",
      "Epoch 11/25\n",
      "24/24 [==============================] - 23s 972ms/step - loss: 0.1065 - accuracy: 0.9627 - val_loss: 0.1473 - val_accuracy: 0.9657\n",
      "Epoch 12/25\n",
      "24/24 [==============================] - 23s 970ms/step - loss: 0.0707 - accuracy: 0.9800 - val_loss: 0.0135 - val_accuracy: 0.9686\n",
      "Epoch 13/25\n",
      "24/24 [==============================] - 23s 970ms/step - loss: 0.0724 - accuracy: 0.9747 - val_loss: 0.1089 - val_accuracy: 0.9657\n",
      "Epoch 14/25\n",
      "24/24 [==============================] - 23s 969ms/step - loss: 0.0614 - accuracy: 0.9813 - val_loss: 0.0184 - val_accuracy: 0.9743\n",
      "Epoch 15/25\n",
      "24/24 [==============================] - 23s 974ms/step - loss: 0.0429 - accuracy: 0.9853 - val_loss: 0.0808 - val_accuracy: 0.9714\n",
      "Epoch 16/25\n",
      "24/24 [==============================] - 23s 973ms/step - loss: 0.0291 - accuracy: 0.9880 - val_loss: 0.1031 - val_accuracy: 0.9714\n",
      "Epoch 17/25\n",
      "24/24 [==============================] - 23s 969ms/step - loss: 0.0355 - accuracy: 0.9867 - val_loss: 0.0552 - val_accuracy: 0.9857\n",
      "Epoch 18/25\n",
      "24/24 [==============================] - 23s 968ms/step - loss: 0.0243 - accuracy: 0.9907 - val_loss: 0.0207 - val_accuracy: 0.9629\n",
      "Epoch 19/25\n",
      "24/24 [==============================] - 23s 969ms/step - loss: 0.0322 - accuracy: 0.9867 - val_loss: 0.3210 - val_accuracy: 0.9771\n",
      "Epoch 20/25\n",
      "24/24 [==============================] - 23s 969ms/step - loss: 0.0498 - accuracy: 0.9813 - val_loss: 0.0061 - val_accuracy: 0.9771\n",
      "Epoch 21/25\n",
      "24/24 [==============================] - 24s 989ms/step - loss: 0.0313 - accuracy: 0.9947 - val_loss: 0.0487 - val_accuracy: 0.9571\n",
      "Epoch 22/25\n",
      "24/24 [==============================] - 24s 996ms/step - loss: 0.0434 - accuracy: 0.9867 - val_loss: 0.0466 - val_accuracy: 0.9771\n",
      "Epoch 23/25\n",
      "24/24 [==============================] - 24s 993ms/step - loss: 0.0418 - accuracy: 0.9827 - val_loss: 0.0504 - val_accuracy: 0.9714\n",
      "Epoch 24/25\n",
      "24/24 [==============================] - 24s 1s/step - loss: 0.0267 - accuracy: 0.9907 - val_loss: 0.0326 - val_accuracy: 0.9886\n",
      "Epoch 25/25\n",
      "24/24 [==============================] - 24s 984ms/step - loss: 0.0160 - accuracy: 0.9907 - val_loss: 0.0046 - val_accuracy: 0.9829\n"
     ]
    }
   ],
   "source": [
    "history=model.fit_generator(train_batches,epochs=25,\n",
    "                           validation_data=test_batches,verbose=1,shuffle=True)"
   ]
  },
  {
   "cell_type": "code",
   "execution_count": 85,
   "metadata": {},
   "outputs": [],
   "source": [
    "from keras.models import load_model\n",
    "\n",
    "model.save('mask.h5')"
   ]
  },
  {
   "cell_type": "code",
   "execution_count": 63,
   "metadata": {},
   "outputs": [],
   "source": [
    "model = load_model('mask.h5')\n"
   ]
  },
  {
   "cell_type": "code",
   "execution_count": 92,
   "metadata": {},
   "outputs": [],
   "source": [
    "pred=model.predict(test_batches)"
   ]
  },
  {
   "cell_type": "code",
   "execution_count": 91,
   "metadata": {},
   "outputs": [
    {
     "data": {
      "text/plain": [
       "0"
      ]
     },
     "execution_count": 91,
     "metadata": {},
     "output_type": "execute_result"
    }
   ],
   "source": [
    "np.argmax(model.predict(test_batches[0][0])[0])"
   ]
  },
  {
   "cell_type": "code",
   "execution_count": 73,
   "metadata": {},
   "outputs": [
    {
     "data": {
      "text/plain": [
       "array([[0.38431376, 0.32156864, 0.23137257],\n",
       "       [0.38431376, 0.32156864, 0.227451  ],\n",
       "       [0.38431376, 0.32156864, 0.22352943],\n",
       "       [0.38431376, 0.32156864, 0.22352943],\n",
       "       [0.3803922 , 0.31764707, 0.21960786],\n",
       "       [0.3803922 , 0.31764707, 0.21568629],\n",
       "       [0.3803922 , 0.31764707, 0.21568629],\n",
       "       [0.3803922 , 0.3137255 , 0.21568629],\n",
       "       [0.38431376, 0.3137255 , 0.21960786],\n",
       "       [0.38431376, 0.3137255 , 0.21960786],\n",
       "       [0.38431376, 0.3137255 , 0.21960786],\n",
       "       [0.38431376, 0.3137255 , 0.21960786],\n",
       "       [0.38823533, 0.31764707, 0.22352943],\n",
       "       [0.38823533, 0.31764707, 0.22352943],\n",
       "       [0.38823533, 0.31764707, 0.22352943],\n",
       "       [0.38823533, 0.31764707, 0.22352943],\n",
       "       [0.38431376, 0.3137255 , 0.21960786],\n",
       "       [0.38431376, 0.3137255 , 0.21960786],\n",
       "       [0.38431376, 0.3137255 , 0.21960786],\n",
       "       [0.38431376, 0.3137255 , 0.21960786],\n",
       "       [0.38431376, 0.3137255 , 0.21960786],\n",
       "       [0.38431376, 0.3137255 , 0.21960786],\n",
       "       [0.38431376, 0.3137255 , 0.21960786],\n",
       "       [0.3803922 , 0.3137255 , 0.21176472],\n",
       "       [0.37647063, 0.30980393, 0.20784315],\n",
       "       [0.37254903, 0.30588236, 0.20392159],\n",
       "       [0.37254903, 0.30588236, 0.20392159],\n",
       "       [0.37254903, 0.30588236, 0.20392159],\n",
       "       [0.37647063, 0.30980393, 0.20784315],\n",
       "       [0.37647063, 0.3137255 , 0.20784315],\n",
       "       [0.3803922 , 0.3137255 , 0.21176472],\n",
       "       [0.3803922 , 0.3137255 , 0.21176472],\n",
       "       [0.3803922 , 0.3137255 , 0.21176472],\n",
       "       [0.3803922 , 0.3137255 , 0.21176472],\n",
       "       [0.3803922 , 0.3137255 , 0.21176472],\n",
       "       [0.3803922 , 0.3137255 , 0.21176472],\n",
       "       [0.3803922 , 0.3137255 , 0.21176472],\n",
       "       [0.3803922 , 0.3137255 , 0.21176472],\n",
       "       [0.3803922 , 0.3137255 , 0.21176472],\n",
       "       [0.3803922 , 0.3137255 , 0.21176472],\n",
       "       [0.3803922 , 0.3137255 , 0.21176472],\n",
       "       [0.38823533, 0.32156864, 0.21960786],\n",
       "       [0.3921569 , 0.3254902 , 0.22352943],\n",
       "       [0.38823533, 0.32156864, 0.21960786],\n",
       "       [0.39607847, 0.31764707, 0.21960786],\n",
       "       [0.39607847, 0.31764707, 0.21960786],\n",
       "       [0.40784317, 0.32156864, 0.227451  ],\n",
       "       [0.4039216 , 0.31764707, 0.22352943],\n",
       "       [0.4039216 , 0.31764707, 0.22352943],\n",
       "       [0.40784317, 0.31764707, 0.22352943],\n",
       "       [0.4156863 , 0.32156864, 0.227451  ],\n",
       "       [0.41960788, 0.3254902 , 0.23137257],\n",
       "       [0.41960788, 0.32941177, 0.23529413],\n",
       "       [0.41176474, 0.3254902 , 0.23137257],\n",
       "       [0.41176474, 0.3254902 , 0.23137257],\n",
       "       [0.40784317, 0.32941177, 0.23137257],\n",
       "       [0.40784317, 0.32941177, 0.23137257],\n",
       "       [0.41176474, 0.33333334, 0.23529413],\n",
       "       [0.41176474, 0.33333334, 0.23529413],\n",
       "       [0.4156863 , 0.3372549 , 0.2392157 ],\n",
       "       [0.4156863 , 0.3372549 , 0.2392157 ],\n",
       "       [0.4156863 , 0.3372549 , 0.2392157 ],\n",
       "       [0.41960788, 0.34117648, 0.24313727],\n",
       "       [0.41960788, 0.34117648, 0.24313727],\n",
       "       [0.41960788, 0.34117648, 0.24313727],\n",
       "       [0.41960788, 0.34117648, 0.24313727],\n",
       "       [0.41960788, 0.34117648, 0.24313727],\n",
       "       [0.41960788, 0.34117648, 0.24313727],\n",
       "       [0.41960788, 0.34117648, 0.24313727],\n",
       "       [0.41960788, 0.34117648, 0.23529413],\n",
       "       [0.41960788, 0.34117648, 0.23529413],\n",
       "       [0.41960788, 0.34117648, 0.23529413],\n",
       "       [0.42352945, 0.34509805, 0.2392157 ],\n",
       "       [0.427451  , 0.34901962, 0.24313727],\n",
       "       [0.427451  , 0.34901962, 0.24313727],\n",
       "       [0.427451  , 0.34901962, 0.24313727],\n",
       "       [0.427451  , 0.34901962, 0.24313727],\n",
       "       [0.42352945, 0.34509805, 0.2392157 ],\n",
       "       [0.427451  , 0.34901962, 0.24313727],\n",
       "       [0.427451  , 0.34901962, 0.24313727],\n",
       "       [0.427451  , 0.34901962, 0.24313727],\n",
       "       [0.43137258, 0.3529412 , 0.24705884],\n",
       "       [0.43137258, 0.3529412 , 0.24705884],\n",
       "       [0.43137258, 0.3529412 , 0.24705884],\n",
       "       [0.427451  , 0.35686275, 0.24705884],\n",
       "       [0.427451  , 0.3647059 , 0.2509804 ],\n",
       "       [0.43137258, 0.37254903, 0.25882354],\n",
       "       [0.427451  , 0.36862746, 0.2509804 ],\n",
       "       [0.41960788, 0.36078432, 0.24705884],\n",
       "       [0.4156863 , 0.35686275, 0.2392157 ],\n",
       "       [0.41960788, 0.36078432, 0.24705884],\n",
       "       [0.42352945, 0.3647059 , 0.2509804 ],\n",
       "       [0.42352945, 0.3647059 , 0.2509804 ],\n",
       "       [0.427451  , 0.36862746, 0.2509804 ],\n",
       "       [0.427451  , 0.36862746, 0.2509804 ],\n",
       "       [0.42352945, 0.3647059 , 0.2509804 ],\n",
       "       [0.42352945, 0.3647059 , 0.2509804 ],\n",
       "       [0.41960788, 0.36078432, 0.24313727],\n",
       "       [0.4156863 , 0.35686275, 0.24313727],\n",
       "       [0.41176474, 0.3529412 , 0.24313727],\n",
       "       [0.4156863 , 0.3529412 , 0.25490198],\n",
       "       [0.41176474, 0.35686275, 0.25882354],\n",
       "       [0.4156863 , 0.35686275, 0.25882354],\n",
       "       [0.4039216 , 0.34901962, 0.2509804 ],\n",
       "       [0.40000004, 0.34117648, 0.24313727],\n",
       "       [0.40000004, 0.34509805, 0.24705884],\n",
       "       [0.40784317, 0.3529412 , 0.25490198],\n",
       "       [0.41960788, 0.36078432, 0.26666668],\n",
       "       [0.41960788, 0.36862746, 0.27058825],\n",
       "       [0.41960788, 0.36078432, 0.26666668],\n",
       "       [0.41176474, 0.36078432, 0.2627451 ],\n",
       "       [0.4156863 , 0.35686275, 0.25882354],\n",
       "       [0.40784317, 0.3529412 , 0.25490198],\n",
       "       [0.41176474, 0.3529412 , 0.25490198],\n",
       "       [0.40784317, 0.35686275, 0.25490198],\n",
       "       [0.40784317, 0.35686275, 0.25490198],\n",
       "       [0.4039216 , 0.3529412 , 0.2509804 ],\n",
       "       [0.40000004, 0.34509805, 0.24313727],\n",
       "       [0.40000004, 0.34509805, 0.24313727],\n",
       "       [0.3921569 , 0.34117648, 0.2392157 ],\n",
       "       [0.38431376, 0.33333334, 0.227451  ],\n",
       "       [0.3803922 , 0.32941177, 0.22352943],\n",
       "       [0.37647063, 0.3254902 , 0.21568629],\n",
       "       [0.3647059 , 0.3137255 , 0.20000002],\n",
       "       [0.3803922 , 0.32941177, 0.21568629],\n",
       "       [0.38431376, 0.33333334, 0.21568629],\n",
       "       [0.38823533, 0.34117648, 0.21960786],\n",
       "       [0.41960788, 0.37254903, 0.24705884],\n",
       "       [0.454902  , 0.40784317, 0.28235295],\n",
       "       [0.4666667 , 0.4156863 , 0.3019608 ],\n",
       "       [0.5019608 , 0.45098042, 0.3372549 ],\n",
       "       [0.4784314 , 0.42352945, 0.31764707],\n",
       "       [0.44705886, 0.4039216 , 0.29411766],\n",
       "       [0.43137258, 0.38823533, 0.28235295],\n",
       "       [0.40784317, 0.36078432, 0.25882354],\n",
       "       [0.38431376, 0.34117648, 0.24313727],\n",
       "       [0.3803922 , 0.3372549 , 0.24705884],\n",
       "       [0.3803922 , 0.3372549 , 0.2509804 ],\n",
       "       [0.3803922 , 0.3372549 , 0.25490198],\n",
       "       [0.3803922 , 0.3372549 , 0.25490198],\n",
       "       [0.3803922 , 0.34509805, 0.27058825],\n",
       "       [0.38431376, 0.3529412 , 0.2784314 ],\n",
       "       [0.39607847, 0.36078432, 0.29411766],\n",
       "       [0.42352945, 0.38823533, 0.32156864],\n",
       "       [0.44705886, 0.41960788, 0.34901962],\n",
       "       [0.48235297, 0.44705886, 0.37254903],\n",
       "       [0.5176471 , 0.47450984, 0.39607847],\n",
       "       [0.5372549 , 0.49411768, 0.40784317],\n",
       "       [0.58431375, 0.5411765 , 0.454902  ],\n",
       "       [0.6392157 , 0.59607846, 0.50980395]], dtype=float32)"
      ]
     },
     "execution_count": 73,
     "metadata": {},
     "output_type": "execute_result"
    }
   ],
   "source": [
    "test_batches[0][0][0][0]"
   ]
  },
  {
   "cell_type": "code",
   "execution_count": 95,
   "metadata": {},
   "outputs": [
    {
     "ename": "ValueError",
     "evalue": "Error when checking input: expected conv2d_33_input to have 4 dimensions, but got array with shape (350, 2)",
     "output_type": "error",
     "traceback": [
      "\u001b[1;31m---------------------------------------------------------------------------\u001b[0m",
      "\u001b[1;31mValueError\u001b[0m                                Traceback (most recent call last)",
      "\u001b[1;32m<ipython-input-95-2023d74670d4>\u001b[0m in \u001b[0;36m<module>\u001b[1;34m\u001b[0m\n\u001b[1;32m----> 1\u001b[1;33m \u001b[0mmodel\u001b[0m\u001b[1;33m.\u001b[0m\u001b[0mevaluate\u001b[0m\u001b[1;33m(\u001b[0m\u001b[0mpred\u001b[0m\u001b[1;33m,\u001b[0m\u001b[0mtest_batches\u001b[0m\u001b[1;33m)\u001b[0m\u001b[1;33m\u001b[0m\u001b[1;33m\u001b[0m\u001b[0m\n\u001b[0m",
      "\u001b[1;32m~\\Anaconda3\\lib\\site-packages\\keras\\engine\\training.py\u001b[0m in \u001b[0;36mevaluate\u001b[1;34m(self, x, y, batch_size, verbose, sample_weight, steps, callbacks, max_queue_size, workers, use_multiprocessing)\u001b[0m\n\u001b[0;32m   1347\u001b[0m             \u001b[0mx\u001b[0m\u001b[1;33m,\u001b[0m \u001b[0my\u001b[0m\u001b[1;33m,\u001b[0m\u001b[1;33m\u001b[0m\u001b[1;33m\u001b[0m\u001b[0m\n\u001b[0;32m   1348\u001b[0m             \u001b[0msample_weight\u001b[0m\u001b[1;33m=\u001b[0m\u001b[0msample_weight\u001b[0m\u001b[1;33m,\u001b[0m\u001b[1;33m\u001b[0m\u001b[1;33m\u001b[0m\u001b[0m\n\u001b[1;32m-> 1349\u001b[1;33m             batch_size=batch_size)\n\u001b[0m\u001b[0;32m   1350\u001b[0m         \u001b[1;31m# Prepare inputs, delegate logic to `test_loop`.\u001b[0m\u001b[1;33m\u001b[0m\u001b[1;33m\u001b[0m\u001b[1;33m\u001b[0m\u001b[0m\n\u001b[0;32m   1351\u001b[0m         \u001b[1;32mif\u001b[0m \u001b[0mself\u001b[0m\u001b[1;33m.\u001b[0m\u001b[0m_uses_dynamic_learning_phase\u001b[0m\u001b[1;33m(\u001b[0m\u001b[1;33m)\u001b[0m\u001b[1;33m:\u001b[0m\u001b[1;33m\u001b[0m\u001b[1;33m\u001b[0m\u001b[0m\n",
      "\u001b[1;32m~\\Anaconda3\\lib\\site-packages\\keras\\engine\\training.py\u001b[0m in \u001b[0;36m_standardize_user_data\u001b[1;34m(self, x, y, sample_weight, class_weight, check_array_lengths, batch_size)\u001b[0m\n\u001b[0;32m    577\u001b[0m             \u001b[0mfeed_input_shapes\u001b[0m\u001b[1;33m,\u001b[0m\u001b[1;33m\u001b[0m\u001b[1;33m\u001b[0m\u001b[0m\n\u001b[0;32m    578\u001b[0m             \u001b[0mcheck_batch_axis\u001b[0m\u001b[1;33m=\u001b[0m\u001b[1;32mFalse\u001b[0m\u001b[1;33m,\u001b[0m  \u001b[1;31m# Don't enforce the batch size.\u001b[0m\u001b[1;33m\u001b[0m\u001b[1;33m\u001b[0m\u001b[0m\n\u001b[1;32m--> 579\u001b[1;33m             exception_prefix='input')\n\u001b[0m\u001b[0;32m    580\u001b[0m \u001b[1;33m\u001b[0m\u001b[0m\n\u001b[0;32m    581\u001b[0m         \u001b[1;32mif\u001b[0m \u001b[0my\u001b[0m \u001b[1;32mis\u001b[0m \u001b[1;32mnot\u001b[0m \u001b[1;32mNone\u001b[0m\u001b[1;33m:\u001b[0m\u001b[1;33m\u001b[0m\u001b[1;33m\u001b[0m\u001b[0m\n",
      "\u001b[1;32m~\\Anaconda3\\lib\\site-packages\\keras\\engine\\training_utils.py\u001b[0m in \u001b[0;36mstandardize_input_data\u001b[1;34m(data, names, shapes, check_batch_axis, exception_prefix)\u001b[0m\n\u001b[0;32m    133\u001b[0m                         \u001b[1;34m': expected '\u001b[0m \u001b[1;33m+\u001b[0m \u001b[0mnames\u001b[0m\u001b[1;33m[\u001b[0m\u001b[0mi\u001b[0m\u001b[1;33m]\u001b[0m \u001b[1;33m+\u001b[0m \u001b[1;34m' to have '\u001b[0m \u001b[1;33m+\u001b[0m\u001b[1;33m\u001b[0m\u001b[1;33m\u001b[0m\u001b[0m\n\u001b[0;32m    134\u001b[0m                         \u001b[0mstr\u001b[0m\u001b[1;33m(\u001b[0m\u001b[0mlen\u001b[0m\u001b[1;33m(\u001b[0m\u001b[0mshape\u001b[0m\u001b[1;33m)\u001b[0m\u001b[1;33m)\u001b[0m \u001b[1;33m+\u001b[0m \u001b[1;34m' dimensions, but got array '\u001b[0m\u001b[1;33m\u001b[0m\u001b[1;33m\u001b[0m\u001b[0m\n\u001b[1;32m--> 135\u001b[1;33m                         'with shape ' + str(data_shape))\n\u001b[0m\u001b[0;32m    136\u001b[0m                 \u001b[1;32mif\u001b[0m \u001b[1;32mnot\u001b[0m \u001b[0mcheck_batch_axis\u001b[0m\u001b[1;33m:\u001b[0m\u001b[1;33m\u001b[0m\u001b[1;33m\u001b[0m\u001b[0m\n\u001b[0;32m    137\u001b[0m                     \u001b[0mdata_shape\u001b[0m \u001b[1;33m=\u001b[0m \u001b[0mdata_shape\u001b[0m\u001b[1;33m[\u001b[0m\u001b[1;36m1\u001b[0m\u001b[1;33m:\u001b[0m\u001b[1;33m]\u001b[0m\u001b[1;33m\u001b[0m\u001b[1;33m\u001b[0m\u001b[0m\n",
      "\u001b[1;31mValueError\u001b[0m: Error when checking input: expected conv2d_33_input to have 4 dimensions, but got array with shape (350, 2)"
     ]
    }
   ],
   "source": [
    "model.evaluate(pred,test_batches)"
   ]
  },
  {
   "cell_type": "code",
   "execution_count": null,
   "metadata": {},
   "outputs": [],
   "source": []
  }
 ],
 "metadata": {
  "kernelspec": {
   "display_name": "Python 3",
   "language": "python",
   "name": "python3"
  },
  "language_info": {
   "codemirror_mode": {
    "name": "ipython",
    "version": 3
   },
   "file_extension": ".py",
   "mimetype": "text/x-python",
   "name": "python",
   "nbconvert_exporter": "python",
   "pygments_lexer": "ipython3",
   "version": "3.7.4"
  }
 },
 "nbformat": 4,
 "nbformat_minor": 2
}
